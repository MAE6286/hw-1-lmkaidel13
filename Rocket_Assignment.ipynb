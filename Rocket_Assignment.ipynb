{
 "cells": [
  {
   "cell_type": "markdown",
   "metadata": {
    "deletable": false,
    "editable": false,
    "nbgrader": {
     "cell_type": "markdown",
     "checksum": "7d5ec27cba18784e520af03b720e766f",
     "grade": false,
     "grade_id": "rocket-introduction",
     "locked": true,
     "schema_version": 3,
     "solution": false
    }
   },
   "source": [
    "# Coding Assignment: Rocket\n",
    "\n",
    "The equations of motion for a rocket in purely vertical flight are given by\n",
    "\n",
    "$$\n",
    "\\begin{cases}\n",
    "\\frac{dh}{dt} = v\\\\\n",
    "(m_s+m_p) \\frac{dv}{dt} = -(m_s+m_p)g + \\dot{m}_pv_e - \\frac{1}{2}\\rho v|v|AC_D\n",
    "\\end{cases}\n",
    "$$\n",
    "\n",
    "$h$ is the altitude of the rocket\n",
    "\n",
    "$m_s = 50kg$ is the weight of the rocket shell\n",
    "\n",
    "$g = 9.81 \\frac{m}{s^2}$\n",
    "\n",
    "$\\rho = 1.091 \\frac{kg}{m^3}$ is the average air density (assumed constant throughout flight)\n",
    "\n",
    "$A = \\pi r^2$ is the maximum cross sectional area of the rocket, where $r = 0.5 m$\n",
    "\n",
    "$v_e = 350 \\frac{m}{s}$ is the exhaust speed\n",
    "\n",
    "$C_D = 0.21 $ is the drag coefficient\n",
    "\n",
    "$m_{po} = 150 kg$ at time $t = 0$ is the initial weight of the rocket propellant\n",
    "\n",
    "The mass of the remaining propellant is given by:\n",
    "\n",
    "$$m_p = m_{po} - \\int^t_0 \\dot{m}_p d\\tau$$\n",
    "\n",
    "where $\\dot{m}_p$ is the time-varying burn rate given by the following figure:\n",
    "\n",
    "Propellant Burn Rate\n",
    "\n",
    "<img src=\"figures/burn_rate.png\" width=\"600px\">\n",
    "\n",
    "that is,\n",
    "\n",
    "$$\n",
    "\\begin{equation}\n",
    "    \\dot{m}_p \\left( t \\right) =\n",
    "    \\begin{cases}\n",
    "        20 & \\quad \\text{if} \\quad t < 4 \\\\\n",
    "        0 & \\quad \\text{otherwise}\n",
    "    \\end{cases}\n",
    "\\end{equation}\n",
    "$$\n",
    "\n",
    "Using RK2 (midpoint) technique with a time-step size of $\\Delta t=0.05s$, implement a code (in this notebook) to calculate the altitude and velocity of the rocket from launch until crash down.\n",
    "\n",
    "_Hint:_ To compute the mass of the remaining propellant at a given time $t$, you can use the function `integrate.quad()` from the SciPy package.\n",
    "(Check the [documentation](https://docs.scipy.org/doc/scipy/reference/generated/scipy.integrate.quad.html) to understand how to use it.)"
   ]
  },
  {
   "cell_type": "markdown",
   "metadata": {
    "deletable": false,
    "editable": false,
    "nbgrader": {
     "cell_type": "markdown",
     "checksum": "919712bed09b9128e1d56d13688aaded",
     "grade": false,
     "grade_id": "solution-section",
     "locked": true,
     "schema_version": 3,
     "solution": false
    }
   },
   "source": [
    "---\n",
    "\n",
    "## Implement your solution (40 points)\n",
    "\n",
    "Implement your solution in this section.\n",
    "You can use as many code cells as you want."
   ]
  },
  {
   "cell_type": "code",
   "execution_count": null,
   "metadata": {
    "deletable": false,
    "nbgrader": {
     "cell_type": "code",
     "checksum": "f74cf3f8a79bfbf9ff3f0aef81fbb7b2",
     "grade": false,
     "grade_id": "student-imports",
     "locked": false,
     "schema_version": 3,
     "solution": true
    }
   },
   "outputs": [],
   "source": [
    "# Import your libraries.\n",
    "\n",
    "# YOUR CODE HERE\n",
    "raise NotImplementedError()"
   ]
  },
  {
   "cell_type": "code",
   "execution_count": null,
   "metadata": {
    "deletable": false,
    "nbgrader": {
     "cell_type": "code",
     "checksum": "3057401cc27f6fd07e2e3ac5ea1a69ed",
     "grade": true,
     "grade_id": "student-solution",
     "locked": false,
     "points": 40,
     "schema_version": 3,
     "solution": true
    }
   },
   "outputs": [],
   "source": [
    "# YOUR CODE HERE\n",
    "raise NotImplementedError()"
   ]
  },
  {
   "cell_type": "markdown",
   "metadata": {
    "deletable": false,
    "editable": false,
    "nbgrader": {
     "cell_type": "markdown",
     "checksum": "c580fda944f69c4762c23ad0d758f6ab",
     "grade": false,
     "grade_id": "assessment-section",
     "locked": true,
     "schema_version": 3,
     "solution": false
    }
   },
   "source": [
    "---\n",
    "\n",
    "## Assessment (60 points)\n",
    "\n",
    "Answer questions in this section.\n",
    "\n",
    "Do not try to delete or modify empty code cells that are already present.\n",
    "For each question, provide your answer in the cell **just above** the empty cell.\n",
    "(This empty cell contains hidden tests to assert the correctness of your answer and cannot be deleted.)\n",
    "Pay attention to the name of the variables we ask you to create to store computed values; if the name of the variable is misspelled, the test will fail."
   ]
  },
  {
   "cell_type": "code",
   "execution_count": null,
   "metadata": {
    "deletable": false,
    "editable": false,
    "nbgrader": {
     "cell_type": "code",
     "checksum": "5f26936e4e48f4269de0e6d911805788",
     "grade": false,
     "grade_id": "import-mooc",
     "locked": true,
     "schema_version": 3,
     "solution": false
    }
   },
   "outputs": [],
   "source": [
    "# Import module to check answers.\n",
    "import mooc"
   ]
  },
  {
   "cell_type": "markdown",
   "metadata": {
    "deletable": false,
    "editable": false,
    "nbgrader": {
     "cell_type": "markdown",
     "checksum": "4c227bb282181859c9af94736e1f8392",
     "grade": false,
     "grade_id": "q1-question",
     "locked": true,
     "schema_version": 3,
     "solution": false
    }
   },
   "source": [
    "**Q1. (10 points)** Using Matplotlib, plot the history of the altitude and velocity of the rocket over time.\n",
    "\n",
    "Don't forget to include axis labels and a legend, if necessary, to your Matplotlib figure."
   ]
  },
  {
   "cell_type": "code",
   "execution_count": null,
   "metadata": {
    "deletable": false,
    "nbgrader": {
     "cell_type": "code",
     "checksum": "ce6a4b7aac4f840363492179353edeae",
     "grade": true,
     "grade_id": "q1-solution",
     "locked": false,
     "points": 10,
     "schema_version": 3,
     "solution": true
    }
   },
   "outputs": [],
   "source": [
    "# YOUR CODE HERE\n",
    "raise NotImplementedError()"
   ]
  },
  {
   "cell_type": "markdown",
   "metadata": {
    "deletable": false,
    "editable": false,
    "nbgrader": {
     "cell_type": "markdown",
     "checksum": "d28d2888d70dd7e951c1d2872e05d379",
     "grade": false,
     "grade_id": "q2-question",
     "locked": true,
     "schema_version": 3,
     "solution": false
    }
   },
   "source": [
    "**Q2. (5 points)** At time $t=15.2s$, what is the mass (in kg) of rocket propellant remaining in the rocket? \n",
    "\n",
    "_Instructions:_\n",
    "\n",
    "* Store the value of the remaining propellant using a variable called `m_p`.\n",
    "You can call the function `mooc.check('hw1_answer1', m_p)` to check you got the correct answer. The function will print `'Good job!'` if you got it right, `'Try again!'` otherwise."
   ]
  },
  {
   "cell_type": "code",
   "execution_count": null,
   "metadata": {
    "deletable": false,
    "nbgrader": {
     "cell_type": "code",
     "checksum": "66ae7559204e87909bc8a1b0b20830f2",
     "grade": false,
     "grade_id": "q2-solution",
     "locked": false,
     "schema_version": 3,
     "solution": true
    }
   },
   "outputs": [],
   "source": [
    "# YOUR CODE HERE\n",
    "raise NotImplementedError()"
   ]
  },
  {
   "cell_type": "code",
   "execution_count": null,
   "metadata": {
    "deletable": false,
    "editable": false,
    "nbgrader": {
     "cell_type": "code",
     "checksum": "b42edac997070ea07e9928b198f89e78",
     "grade": true,
     "grade_id": "q2-check",
     "locked": true,
     "points": 5,
     "schema_version": 3,
     "solution": false
    }
   },
   "outputs": [],
   "source": []
  },
  {
   "cell_type": "markdown",
   "metadata": {
    "deletable": false,
    "editable": false,
    "nbgrader": {
     "cell_type": "markdown",
     "checksum": "7c65efc6ebc0066442b41cd21fcead88",
     "grade": false,
     "grade_id": "q3-question",
     "locked": true,
     "schema_version": 3,
     "solution": false
    }
   },
   "source": [
    "**Q3. (15 points)** What is the maximum speed of the rocket in $\\frac{m}{s}$? At what time does this occur (in seconds)? What is the altitude at this time (in meters)?\n",
    "\n",
    "_Instructions:_\n",
    "\n",
    "* Store the maximum speed in the variable `vmax`, check your answer with `mooc.check('hw1_answer2', vmax)`.\n",
    "* Store the time in `t_vmax`, check your answer with `mooc.check('hw1_answer3', t_vmax)`.\n",
    "* Store the altitude in the variable `h_vmax`, check your answer with `mooc.check('hw1_answer4', h_vmax)`."
   ]
  },
  {
   "cell_type": "code",
   "execution_count": null,
   "metadata": {
    "deletable": false,
    "nbgrader": {
     "cell_type": "code",
     "checksum": "1b2aef20df1046ad7bd71f60dfa97eee",
     "grade": false,
     "grade_id": "q3-solution",
     "locked": false,
     "schema_version": 3,
     "solution": true
    }
   },
   "outputs": [],
   "source": [
    "# YOUR CODE HERE\n",
    "raise NotImplementedError()"
   ]
  },
  {
   "cell_type": "code",
   "execution_count": null,
   "metadata": {
    "deletable": false,
    "editable": false,
    "nbgrader": {
     "cell_type": "code",
     "checksum": "6a29998592f92bf52fad246482592bc5",
     "grade": true,
     "grade_id": "q3-check",
     "locked": true,
     "points": 15,
     "schema_version": 3,
     "solution": false
    }
   },
   "outputs": [],
   "source": []
  },
  {
   "cell_type": "markdown",
   "metadata": {
    "deletable": false,
    "editable": false,
    "nbgrader": {
     "cell_type": "markdown",
     "checksum": "762f819a5c9510fe5fee8624dd9bccc8",
     "grade": false,
     "grade_id": "q4-question",
     "locked": true,
     "schema_version": 3,
     "solution": false
    }
   },
   "source": [
    "**Q4. (10 points)** What is the rocket's maximum altitude during flight (in meters)? At what time (in seconds) does this occur?\n",
    "\n",
    "_Instructions:_\n",
    "\n",
    "* Store the maximum altitude in the variable `hmax`, check your answer with `mooc.check('hw1_answer5', hmax)`.\n",
    "* Store the time in the variable `t_hmax`, check your answer with `mooc.check('hw1_answer6', t_hmax)`."
   ]
  },
  {
   "cell_type": "code",
   "execution_count": null,
   "metadata": {
    "deletable": false,
    "nbgrader": {
     "cell_type": "code",
     "checksum": "f181b2b032e045ccd9ec19975761cbaa",
     "grade": false,
     "grade_id": "q4-solution",
     "locked": false,
     "schema_version": 3,
     "solution": true
    }
   },
   "outputs": [],
   "source": [
    "# YOUR CODE HERE\n",
    "raise NotImplementedError()"
   ]
  },
  {
   "cell_type": "code",
   "execution_count": null,
   "metadata": {
    "deletable": false,
    "editable": false,
    "nbgrader": {
     "cell_type": "code",
     "checksum": "a6282395a124ea08dbdfab3361f8ff2d",
     "grade": true,
     "grade_id": "q4-check",
     "locked": true,
     "points": 10,
     "schema_version": 3,
     "solution": false
    }
   },
   "outputs": [],
   "source": []
  },
  {
   "cell_type": "markdown",
   "metadata": {
    "deletable": false,
    "editable": false,
    "nbgrader": {
     "cell_type": "markdown",
     "checksum": "022df9f24d851db2cc63c8c5231b6b80",
     "grade": false,
     "grade_id": "q5-question",
     "locked": true,
     "schema_version": 3,
     "solution": false
    }
   },
   "source": [
    "**Q5. (20 points)** At what time (in seconds) does the rocket impact the ground? What is the velocity of the rocket (in $\\frac{m}{s}$) at time of impact?\n",
    "\n",
    "The time and velocity of the impact should be linearly interpolated at altitude $h = 0$.\n",
    "\n",
    "_Instructions:_\n",
    "\n",
    "* Store the time of impact in the variable `t_impact`, check your answer with `mooc.check('hw1_answer7', t_impact)`.\n",
    "* Store the impact velocity in the variable `v_impact`, check your answer with `mooc.check('hw1_answer8', v_impact)`."
   ]
  },
  {
   "cell_type": "code",
   "execution_count": null,
   "metadata": {
    "deletable": false,
    "nbgrader": {
     "cell_type": "code",
     "checksum": "564c9b327e828d50954081ab9c8a6b51",
     "grade": false,
     "grade_id": "q5-solution",
     "locked": false,
     "schema_version": 3,
     "solution": true
    }
   },
   "outputs": [],
   "source": [
    "# YOUR CODE HERE\n",
    "raise NotImplementedError()"
   ]
  },
  {
   "cell_type": "code",
   "execution_count": null,
   "metadata": {
    "deletable": false,
    "editable": false,
    "nbgrader": {
     "cell_type": "code",
     "checksum": "0246945493a1bfc08583ed9f7d69999e",
     "grade": true,
     "grade_id": "q5-check",
     "locked": true,
     "points": 20,
     "schema_version": 3,
     "solution": false
    }
   },
   "outputs": [],
   "source": []
  },
  {
   "cell_type": "markdown",
   "metadata": {
    "deletable": false,
    "editable": false,
    "nbgrader": {
     "cell_type": "markdown",
     "checksum": "0a67937b8eb19f0e653536195b4517ca",
     "grade": false,
     "grade_id": "derivation",
     "locked": true,
     "schema_version": 3,
     "solution": false
    }
   },
   "source": [
    "---\n",
    "\n",
    "## Derivation of the rocket equations\n",
    "\n",
    "In case you are kind of confused about the rocket equations, here we show how to get to them. \n",
    "\n",
    "Newton's second law states that the acceleration of the vehicle times its mass is equal to all the forces acting on it. Therefore,\n",
    "\n",
    "\\begin{equation}\n",
    "(m_s + m_p)\\frac{d\\bf{v}}{dt}=\\sum {\\bf F}.\n",
    "\\end{equation}\n",
    "In the above formula we have assumed that the propellant inside the rocket and the rocket move at the same velocity (in other words, their relative velocity is negligible). \n",
    "\n",
    "Two of the external forces acting on the rocket are,\n",
    "\n",
    "\\begin{align}\n",
    "{\\bf F}_g&= (m_s+m_p)\\bf{g} \\quad (\\rm{Gravity}),\\\\\n",
    "{\\bf F}_d&= - \\frac{1}{2} \\rho_a \\mathbf{v} |\\mathbf{v}| A  C_D \\quad (\\rm{Drag}).\n",
    "\\end{align}\n",
    "\n",
    "We also need to consider the force resulting from the ejection of the propellant. During an interval $dt$, the engine of the rocket ejects downwards a mass of propellant given by $\\dot m_p dt$. Relative to the rocket, the speed of the ejected burning gas is assumed constant and equal to $v_e$ (the exhaust speed). The momentum variation induced on the exhaust gas by the engine during that interval is therefore, $d{\\bf p}_{gas} = \\dot m_p {\\bf v}_e dt$. Again using Newton's second law we conclude that the force applied by the rocket on the gas is,\n",
    "\n",
    "\\begin{align}\n",
    "{\\bf F}_{rocket\\rightarrow gas} = \\frac{d{\\bf p}_{gas}}{dt} = \\dot m_p {\\bf v}_e\n",
    "\\end{align}\n",
    "\n",
    "Using Newton's third law (|action| = |reaction|), the force exerted by the exhaust gas on the rocket is then,\n",
    "\n",
    "\\begin{align}\n",
    "{\\bf F}_{gas\\rightarrow rocket} = -{\\bf F}_{rocket\\rightarrow gas} = -\\dot m_p {\\bf v}_e\n",
    "\\end{align}\n",
    "\n",
    "If we collect all the forces acting on the rocket we finally have:\n",
    "\n",
    "\\begin{align}\n",
    "(m_s + m_p)\\frac{d\\bf{v}}{dt}=(m_s+m_p){\\bf g}- \\frac{1}{2} \\rho_a \\mathbf{v} |v| A  C_D -\\dot m_p {\\bf v}_e\n",
    "\\end{align}\n",
    "\n"
   ]
  }
 ],
 "metadata": {
  "kernelspec": {
   "display_name": "Python 3",
   "language": "python",
   "name": "python3"
  },
  "language_info": {
   "codemirror_mode": {
    "name": "ipython",
    "version": 3
   },
   "file_extension": ".py",
   "mimetype": "text/x-python",
   "name": "python",
   "nbconvert_exporter": "python",
   "pygments_lexer": "ipython3",
   "version": "3.6.1"
  }
 },
 "nbformat": 4,
 "nbformat_minor": 1
}
