{
 "cells": [
  {
   "cell_type": "markdown",
   "metadata": {
    "deletable": false,
    "editable": false,
    "nbgrader": {
     "cell_type": "markdown",
     "checksum": "7d5ec27cba18784e520af03b720e766f",
     "grade": false,
     "grade_id": "rocket-introduction",
     "locked": true,
     "schema_version": 3,
     "solution": false
    }
   },
   "source": [
    "# Coding Assignment: Rocket\n",
    "\n",
    "The equations of motion for a rocket in purely vertical flight are given by\n",
    "\n",
    "$$\n",
    "\\begin{cases}\n",
    "\\frac{dh}{dt} = v\\\\\n",
    "(m_s+m_p) \\frac{dv}{dt} = -(m_s+m_p)g + \\dot{m}_pv_e - \\frac{1}{2}\\rho v|v|AC_D\n",
    "\\end{cases}\n",
    "$$\n",
    "\n",
    "$h$ is the altitude of the rocket\n",
    "\n",
    "$m_s = 50kg$ is the weight of the rocket shell\n",
    "\n",
    "$g = 9.81 \\frac{m}{s^2}$\n",
    "\n",
    "$\\rho = 1.091 \\frac{kg}{m^3}$ is the average air density (assumed constant throughout flight)\n",
    "\n",
    "$A = \\pi r^2$ is the maximum cross sectional area of the rocket, where $r = 0.5 m$\n",
    "\n",
    "$v_e = 350 \\frac{m}{s}$ is the exhaust speed\n",
    "\n",
    "$C_D = 0.21 $ is the drag coefficient\n",
    "\n",
    "$m_{po} = 150 kg$ at time $t = 0$ is the initial weight of the rocket propellant\n",
    "\n",
    "The mass of the remaining propellant is given by:\n",
    "\n",
    "$$m_p = m_{po} - \\int^t_0 \\dot{m}_p d\\tau$$\n",
    "\n",
    "where $\\dot{m}_p$ is the time-varying burn rate given by the following figure:\n",
    "\n",
    "Propellant Burn Rate\n",
    "\n",
    "<img src=\"figures/burn_rate.png\" width=\"600px\">\n",
    "\n",
    "that is,\n",
    "\n",
    "$$\n",
    "\\begin{equation}\n",
    "    \\dot{m}_p \\left( t \\right) =\n",
    "    \\begin{cases}\n",
    "        20 & \\quad \\text{if} \\quad t < 4 \\\\\n",
    "        0 & \\quad \\text{otherwise}\n",
    "    \\end{cases}\n",
    "\\end{equation}\n",
    "$$\n",
    "\n",
    "Using RK2 (midpoint) technique with a time-step size of $\\Delta t=0.05s$, implement a code (in this notebook) to calculate the altitude and velocity of the rocket from launch until crash down.\n",
    "\n",
    "_Hint:_ To compute the mass of the remaining propellant at a given time $t$, you can use the function `integrate.quad()` from the SciPy package.\n",
    "(Check the [documentation](https://docs.scipy.org/doc/scipy/reference/generated/scipy.integrate.quad.html) to understand how to use it.)"
   ]
  },
  {
   "cell_type": "markdown",
   "metadata": {
    "deletable": false,
    "editable": false,
    "nbgrader": {
     "cell_type": "markdown",
     "checksum": "919712bed09b9128e1d56d13688aaded",
     "grade": false,
     "grade_id": "solution-section",
     "locked": true,
     "schema_version": 3,
     "solution": false
    }
   },
   "source": [
    "---\n",
    "\n",
    "## Implement your solution (40 points)\n",
    "\n",
    "Implement your solution in this section.\n",
    "You can use as many code cells as you want."
   ]
  },
  {
   "cell_type": "code",
   "execution_count": 1,
   "metadata": {
    "deletable": false,
    "nbgrader": {
     "cell_type": "code",
     "checksum": "f74cf3f8a79bfbf9ff3f0aef81fbb7b2",
     "grade": false,
     "grade_id": "student-imports",
     "locked": false,
     "schema_version": 3,
     "solution": true
    }
   },
   "outputs": [],
   "source": [
    "# Import your libraries.\n",
    "\n",
    "# YOUR CODE HERE\n",
    "import numpy as np\n",
    "from matplotlib import pyplot\n",
    "%matplotlib inline"
   ]
  },
  {
   "cell_type": "markdown",
   "metadata": {},
   "source": [
    "#### Create the time grid"
   ]
  },
  {
   "cell_type": "code",
   "execution_count": 2,
   "metadata": {
    "deletable": false,
    "nbgrader": {
     "cell_type": "code",
     "checksum": "3057401cc27f6fd07e2e3ac5ea1a69ed",
     "grade": true,
     "grade_id": "student-solution",
     "locked": false,
     "points": 40,
     "schema_version": 3,
     "solution": true
    }
   },
   "outputs": [],
   "source": [
    "# YOUR CODE HERE\n",
    "\n",
    "T = 50.0  # length of the time-interval\n",
    "dt = 0.05  # time-step size\n",
    "N = int(T/dt) +1 # number of time steps\n",
    "t = np.linspace(0.0, T, num=N)  # time grid"
   ]
  },
  {
   "cell_type": "markdown",
   "metadata": {},
   "source": [
    "#### Set given values/coefficients"
   ]
  },
  {
   "cell_type": "code",
   "execution_count": 3,
   "metadata": {},
   "outputs": [],
   "source": [
    "h_o=0 #initial height [m]\n",
    "m_s=50 #weight of rocket [kg]\n",
    "g=9.81 #gravitational force [m/s^2]\n",
    "rho=1.091 #density of air [kg/m^3]\n",
    "r=0.5 #max radius of rocket [m]\n",
    "A=(np.pi)*(r**2) #xc Area of rocket [m^2]\n",
    "v_e = 350 #exhaust speed [m/s]\n",
    "C_D = 0.21 #drag coeff\n",
    "m_po=150 #initial (t=0) weight of propellent"
   ]
  },
  {
   "cell_type": "markdown",
   "metadata": {},
   "source": [
    "#### Mass equation"
   ]
  },
  {
   "cell_type": "code",
   "execution_count": 4,
   "metadata": {},
   "outputs": [],
   "source": [
    "m_p_dot=np.zeros_like(t)\n",
    "for i in range(len(m_p_dot)):\n",
    "    if (t[i]<=4):\n",
    "        m_p_dot[i]=20\n",
    "    else:\n",
    "        m_p_dot[i]=0\n",
    "m_p=np.zeros_like(t)\n",
    "for i in range(len(m_p)):\n",
    "    if (t[i]<=4):\n",
    "        m_p[i]=m_po-(t[i]*20)\n",
    "    else:\n",
    "        m_p[i]=0\n",
    "mass=np.zeros_like(t)\n",
    "for i in range(len(t)):\n",
    "    if (t[i]<=4):\n",
    "        mass[i]=(m_s+150-t[i]*m_p_dot[i])\n",
    "    else:\n",
    "        mass[i]=(120)"
   ]
  },
  {
   "cell_type": "code",
   "execution_count": 5,
   "metadata": {},
   "outputs": [
    {
     "data": {
      "text/plain": [
       "numpy.ndarray"
      ]
     },
     "execution_count": 5,
     "metadata": {},
     "output_type": "execute_result"
    }
   ],
   "source": [
    "type(mass)"
   ]
  },
  {
   "cell_type": "code",
   "execution_count": 6,
   "metadata": {},
   "outputs": [
    {
     "data": {
      "image/png": "[encoded data removed]",
      "text/plain": [
       "<Figure size 432x288 with 1 Axes>"
      ]
     },
     "metadata": {
      "needs_background": "light"
     },
     "output_type": "display_data"
    }
   ],
   "source": [
    "pyplot.plot(t[:100],mass[:100])\n",
    "pyplot.xlabel('time: first 10 seconds [s]')\n",
    "pyplot.ylabel('Weight of total rocket and fuel [kg]');"
   ]
  },
  {
   "cell_type": "markdown",
   "metadata": {},
   "source": [
    "here we can visualise the rocket decreasing weight from 150 kg propellant and 50 kg shell as it expells 'some' the 150 kg of propelent in the first 4 seconds leaving only the shell (50 kg) and leftover propellant (70 kg)"
   ]
  },
  {
   "cell_type": "code",
   "execution_count": 90,
   "metadata": {},
   "outputs": [
    {
     "data": {
      "image/png": "[encoded data removed]",
      "text/plain": [
       "<Figure size 432x288 with 1 Axes>"
      ]
     },
     "metadata": {
      "needs_background": "light"
     },
     "output_type": "display_data"
    }
   ],
   "source": [
    "pyplot.plot(t[:100],m_p_dot[:100])\n",
    "pyplot.xlabel('time: first 10 seconds [s]')\n",
    "pyplot.ylabel('Mp dot [kg/s]');"
   ]
  },
  {
   "cell_type": "markdown",
   "metadata": {},
   "source": [
    "#### Define RK2 function"
   ]
  },
  {
   "cell_type": "code",
   "execution_count": 101,
   "metadata": {},
   "outputs": [],
   "source": [
    "def rk2_step(u, rhs, dt,*args):\n",
    "    '''\n",
    "    Update a state to the next time increment using modified Euler's method.\n",
    "    \n",
    "    Arguments:\n",
    "    state : array of dependent variables\n",
    "    rhs   : function that computes the RHS of the DiffEq\n",
    "    dt    : float, time increment\n",
    "    \n",
    "    Returns:\n",
    "    next_state : array, updated after one time increment'''\n",
    "    u_star = u + (rhs(u,*args)*(dt*0.5))    \n",
    "    u_new = u + (rhs(u_star,*args)*dt)\n",
    " \n",
    "    return u_new"
   ]
  },
  {
   "cell_type": "markdown",
   "metadata": {},
   "source": [
    "#### Write equation of motion"
   ]
  },
  {
   "cell_type": "code",
   "execution_count": 124,
   "metadata": {},
   "outputs": [],
   "source": [
    "def rocket(u,i):\n",
    "    '''Compute the right hand side of the diff eq\n",
    "    \n",
    "    Arguments:\n",
    "    state    : array of state variables, (h,v)\n",
    "    \n",
    "    Returns  :\n",
    "    derivs   : array of derivatives (v,a)  \n",
    "    '''\n",
    "    derivs =np.array([u[1], -g+((m_p_dot[i]*v_e)/(mass[i]))-(0.5/(mass[i]))*rho*u[1]*abs(u[1])*A*C_D])\n",
    "    return derivs"
   ]
  },
  {
   "cell_type": "markdown",
   "metadata": {},
   "source": [
    "#### Initialise state of rocket array"
   ]
  },
  {
   "cell_type": "code",
   "execution_count": 130,
   "metadata": {},
   "outputs": [],
   "source": [
    "sol=np.zeros([N,2])#numerical solution [h,v]\n",
    "sol[0,0]=h_o #initial hieght = 0 [m]\n",
    "sol[0,1]=0 #initial velocity =0 [m/s]"
   ]
  },
  {
   "cell_type": "code",
   "execution_count": null,
   "metadata": {},
   "outputs": [],
   "source": []
  },
  {
   "cell_type": "code",
   "execution_count": 131,
   "metadata": {},
   "outputs": [],
   "source": [
    "for i in range(N-1):\n",
    "    sol[i+1] = rk2_step(sol[i],rocket,dt,i)\n",
    "#finding the numerical solutions using rk2 step and right hand side of rocket"
   ]
  },
  {
   "cell_type": "code",
   "execution_count": 144,
   "metadata": {},
   "outputs": [],
   "source": [
    "for i in range(N):\n",
    "    if (sol[i,0]<0):\n",
    "        sol[i,0]=0\n",
    "        sol[i,1]=0\n",
    "#deletes false negative altitude solutions"
   ]
  },
  {
   "cell_type": "code",
   "execution_count": 145,
   "metadata": {},
   "outputs": [
    {
     "name": "stdout",
     "output_type": "stream",
     "text": [
      "[[ 0.          0.        ]\n",
      " [ 0.0314875   1.25949108]\n",
      " [ 0.12616851  2.52770399]\n",
      " [ 0.2844795   3.80465299]\n",
      " [ 0.50685763  5.09035103]\n",
      " [ 0.79374067  6.38480973]\n",
      " [ 1.14556694  7.68803929]\n",
      " [ 1.56277523  9.0000485 ]\n",
      " [ 2.04580474 10.32084468]\n",
      " [ 2.595095   11.65043362]\n",
      " [ 3.21108578 12.98881958]\n",
      " [ 3.89421702 14.33600518]\n",
      " [ 4.64492878 15.69199143]\n",
      " [ 5.46366111 17.05677763]\n",
      " [ 6.35085396 18.43036133]\n",
      " [ 7.30694715 19.81273831]\n",
      " [ 8.33238023 21.20390253]\n",
      " [ 9.4275924  22.60384605]\n",
      " [10.59302241 24.01255901]\n",
      " [11.82910848 25.43002956]]\n"
     ]
    }
   ],
   "source": [
    "print(sol[:20])"
   ]
  },
  {
   "cell_type": "code",
   "execution_count": 146,
   "metadata": {},
   "outputs": [
    {
     "data": {
      "image/png": "[encoded data removed]",
      "text/plain": [
       "<Figure size 432x288 with 1 Axes>"
      ]
     },
     "metadata": {
      "needs_background": "light"
     },
     "output_type": "display_data"
    }
   ],
   "source": [
    "pyplot.plot(t[:],sol[:,0])\n",
    "pyplot.xlabel('Time [s]')\n",
    "pyplot.ylabel('Altitude [m]')\n",
    "pyplot.title('Vertical Position of Rocket from launch to crash');"
   ]
  },
  {
   "cell_type": "code",
   "execution_count": 147,
   "metadata": {},
   "outputs": [
    {
     "data": {
      "image/png": "[encoded data removed]",
      "text/plain": [
       "<Figure size 432x288 with 1 Axes>"
      ]
     },
     "metadata": {
      "needs_background": "light"
     },
     "output_type": "display_data"
    }
   ],
   "source": [
    "pyplot.plot(t[:],sol[:,1])\n",
    "pyplot.xlabel('Time [s]')\n",
    "pyplot.ylabel('Velocity [m/s]')\n",
    "pyplot.title('Velocity of Rocket from launch to crash');"
   ]
  },
  {
   "cell_type": "markdown",
   "metadata": {
    "deletable": false,
    "editable": false,
    "nbgrader": {
     "cell_type": "markdown",
     "checksum": "c580fda944f69c4762c23ad0d758f6ab",
     "grade": false,
     "grade_id": "assessment-section",
     "locked": true,
     "schema_version": 3,
     "solution": false
    }
   },
   "source": [
    "---\n",
    "\n",
    "## Assessment (60 points)\n",
    "\n",
    "Answer questions in this section.\n",
    "\n",
    "Do not try to delete or modify empty code cells that are already present.\n",
    "For each question, provide your answer in the cell **just above** the empty cell.\n",
    "(This empty cell contains hidden tests to assert the correctness of your answer and cannot be deleted.)\n",
    "Pay attention to the name of the variables we ask you to create to store computed values; if the name of the variable is misspelled, the test will fail."
   ]
  },
  {
   "cell_type": "code",
   "execution_count": 148,
   "metadata": {
    "deletable": false,
    "editable": false,
    "nbgrader": {
     "cell_type": "code",
     "checksum": "5f26936e4e48f4269de0e6d911805788",
     "grade": false,
     "grade_id": "import-mooc",
     "locked": true,
     "schema_version": 3,
     "solution": false
    }
   },
   "outputs": [],
   "source": [
    "# Import module to check answers.\n",
    "import mooc"
   ]
  },
  {
   "cell_type": "markdown",
   "metadata": {
    "deletable": false,
    "editable": false,
    "nbgrader": {
     "cell_type": "markdown",
     "checksum": "4c227bb282181859c9af94736e1f8392",
     "grade": false,
     "grade_id": "q1-question",
     "locked": true,
     "schema_version": 3,
     "solution": false
    }
   },
   "source": [
    "**Q1. (10 points)** Using Matplotlib, plot the history of the altitude and velocity of the rocket over time.\n",
    "\n",
    "Don't forget to include axis labels and a legend, if necessary, to your Matplotlib figure."
   ]
  },
  {
   "cell_type": "code",
   "execution_count": 149,
   "metadata": {
    "deletable": false,
    "nbgrader": {
     "cell_type": "code",
     "checksum": "ce6a4b7aac4f840363492179353edeae",
     "grade": true,
     "grade_id": "q1-solution",
     "locked": false,
     "points": 10,
     "schema_version": 3,
     "solution": true
    }
   },
   "outputs": [
    {
     "data": {
      "image/png": "[encoded data removed]",
      "text/plain": [
       "<Figure size 432x288 with 1 Axes>"
      ]
     },
     "metadata": {
      "needs_background": "light"
     },
     "output_type": "display_data"
    }
   ],
   "source": [
    "# YOUR CODE HERE\n",
    "pyplot.plot(t[:],sol[:,0],label='altitude')\n",
    "pyplot.plot(t[:],sol[:,1],label='velocity')\n",
    "pyplot.xlabel('Time [s]')\n",
    "pyplot.ylabel('Alt or V')\n",
    "pyplot.title('Vertical Position of Rocket from launch to crash')\n",
    "pyplot.legend(loc='best');"
   ]
  },
  {
   "cell_type": "markdown",
   "metadata": {
    "deletable": false,
    "editable": false,
    "nbgrader": {
     "cell_type": "markdown",
     "checksum": "d28d2888d70dd7e951c1d2872e05d379",
     "grade": false,
     "grade_id": "q2-question",
     "locked": true,
     "schema_version": 3,
     "solution": false
    }
   },
   "source": [
    "**Q2. (5 points)** At time $t=15.2s$, what is the mass (in kg) of rocket propellant remaining in the rocket? \n",
    "\n",
    "_Instructions:_\n",
    "\n",
    "* Store the value of the remaining propellant using a variable called `m_p`.\n",
    "You can call the function `mooc.check('hw1_answer1', m_p)` to check you got the correct answer. The function will print `'Good job!'` if you got it right, `'Try again!'` otherwise."
   ]
  },
  {
   "cell_type": "code",
   "execution_count": 150,
   "metadata": {},
   "outputs": [],
   "source": [
    "h=sol[:,0]\n",
    "v=sol[:,1]"
   ]
  },
  {
   "cell_type": "code",
   "execution_count": 151,
   "metadata": {
    "deletable": false,
    "nbgrader": {
     "cell_type": "code",
     "checksum": "66ae7559204e87909bc8a1b0b20830f2",
     "grade": false,
     "grade_id": "q2-solution",
     "locked": false,
     "schema_version": 3,
     "solution": true
    }
   },
   "outputs": [
    {
     "name": "stdout",
     "output_type": "stream",
     "text": [
      "[hw1_answer1] Good job!\n"
     ]
    }
   ],
   "source": [
    "# YOUR CODE HERE\n",
    "t[304]\n",
    "m_p=mass[304]-50 #total mass at t=15.2 -50 kg shell\n",
    "mooc.check('hw1_answer1',m_p)"
   ]
  },
  {
   "cell_type": "code",
   "execution_count": null,
   "metadata": {
    "deletable": false,
    "editable": false,
    "nbgrader": {
     "cell_type": "code",
     "checksum": "b42edac997070ea07e9928b198f89e78",
     "grade": true,
     "grade_id": "q2-check",
     "locked": true,
     "points": 5,
     "schema_version": 3,
     "solution": false
    }
   },
   "outputs": [],
   "source": []
  },
  {
   "cell_type": "markdown",
   "metadata": {
    "deletable": false,
    "editable": false,
    "nbgrader": {
     "cell_type": "markdown",
     "checksum": "7c65efc6ebc0066442b41cd21fcead88",
     "grade": false,
     "grade_id": "q3-question",
     "locked": true,
     "schema_version": 3,
     "solution": false
    }
   },
   "source": [
    "**Q3. (15 points)** What is the maximum speed of the rocket in $\\frac{m}{s}$? At what time does this occur (in seconds)? What is the altitude at this time (in meters)?\n",
    "\n",
    "_Instructions:_\n",
    "\n",
    "* Store the maximum speed in the variable `vmax`, check your answer with `mooc.check('hw1_answer2', vmax)`.\n",
    "* Store the time in `t_vmax`, check your answer with `mooc.check('hw1_answer3', t_vmax)`.\n",
    "* Store the altitude in the variable `h_vmax`, check your answer with `mooc.check('hw1_answer4', h_vmax)`."
   ]
  },
  {
   "cell_type": "code",
   "execution_count": 139,
   "metadata": {
    "deletable": false,
    "nbgrader": {
     "cell_type": "code",
     "checksum": "1b2aef20df1046ad7bd71f60dfa97eee",
     "grade": false,
     "grade_id": "q3-solution",
     "locked": false,
     "schema_version": 3,
     "solution": true
    }
   },
   "outputs": [
    {
     "name": "stdout",
     "output_type": "stream",
     "text": [
      "128.11599966369317\n",
      "128.11599966369317\n",
      "[hw1_answer2] Try again!\n"
     ]
    }
   ],
   "source": [
    "# YOUR CODE HERE\n",
    "vmax=np.max(v)\n",
    "print(v[81])\n",
    "print(vmax)\n",
    "mooc.check('hw1_answer2',vmax)"
   ]
  },
  {
   "cell_type": "code",
   "execution_count": 140,
   "metadata": {},
   "outputs": [
    {
     "name": "stdout",
     "output_type": "stream",
     "text": [
      "4.0\n",
      "[hw1_answer3] Good job!\n"
     ]
    }
   ],
   "source": [
    "for i in range(N):\n",
    "    if (v[i]==vmax):\n",
    "        t_vmax=t[i-1]\n",
    "        break\n",
    "print(t_vmax)\n",
    "mooc.check('hw1_answer3',t_vmax)"
   ]
  },
  {
   "cell_type": "code",
   "execution_count": 141,
   "metadata": {},
   "outputs": [
    {
     "name": "stdout",
     "output_type": "stream",
     "text": [
      "[hw1_answer4] Try again!\n"
     ]
    }
   ],
   "source": [
    "for i in range(N):\n",
    "    if (v[i]==vmax):\n",
    "        h_vmax=h[i]\n",
    "        break\n",
    "mooc.check('hw1_answer4',h_vmax)"
   ]
  },
  {
   "cell_type": "code",
   "execution_count": null,
   "metadata": {
    "deletable": false,
    "editable": false,
    "nbgrader": {
     "cell_type": "code",
     "checksum": "6a29998592f92bf52fad246482592bc5",
     "grade": true,
     "grade_id": "q3-check",
     "locked": true,
     "points": 15,
     "schema_version": 3,
     "solution": false
    }
   },
   "outputs": [],
   "source": []
  },
  {
   "cell_type": "markdown",
   "metadata": {
    "deletable": false,
    "editable": false,
    "nbgrader": {
     "cell_type": "markdown",
     "checksum": "762f819a5c9510fe5fee8624dd9bccc8",
     "grade": false,
     "grade_id": "q4-question",
     "locked": true,
     "schema_version": 3,
     "solution": false
    }
   },
   "source": [
    "**Q4. (10 points)** What is the rocket's maximum altitude during flight (in meters)? At what time (in seconds) does this occur?\n",
    "\n",
    "_Instructions:_\n",
    "\n",
    "* Store the maximum altitude in the variable `hmax`, check your answer with `mooc.check('hw1_answer5', hmax)`.\n",
    "* Store the time in the variable `t_hmax`, check your answer with `mooc.check('hw1_answer6', t_hmax)`."
   ]
  },
  {
   "cell_type": "code",
   "execution_count": 142,
   "metadata": {
    "deletable": false,
    "nbgrader": {
     "cell_type": "code",
     "checksum": "f181b2b032e045ccd9ec19975761cbaa",
     "grade": false,
     "grade_id": "q4-solution",
     "locked": false,
     "schema_version": 3,
     "solution": true
    }
   },
   "outputs": [
    {
     "name": "stdout",
     "output_type": "stream",
     "text": [
      "[hw1_answer5] Try again!\n"
     ]
    }
   ],
   "source": [
    "# YOUR CODE HERE\n",
    "hmax=np.max(h)\n",
    "mooc.check('hw1_answer5', hmax)"
   ]
  },
  {
   "cell_type": "code",
   "execution_count": 143,
   "metadata": {},
   "outputs": [
    {
     "name": "stdout",
     "output_type": "stream",
     "text": [
      "277\n",
      "[hw1_answer6] Good job!\n",
      "13.75\n"
     ]
    }
   ],
   "source": [
    "for i in range(N):\n",
    "    if (h[i]==hmax):\n",
    "        t_hmax=t[i-2]\n",
    "        print(i)\n",
    "        break\n",
    "mooc.check('hw1_answer6', t_hmax)\n",
    "print(t_hmax)"
   ]
  },
  {
   "cell_type": "code",
   "execution_count": null,
   "metadata": {
    "deletable": false,
    "editable": false,
    "nbgrader": {
     "cell_type": "code",
     "checksum": "a6282395a124ea08dbdfab3361f8ff2d",
     "grade": true,
     "grade_id": "q4-check",
     "locked": true,
     "points": 10,
     "schema_version": 3,
     "solution": false
    }
   },
   "outputs": [],
   "source": []
  },
  {
   "cell_type": "markdown",
   "metadata": {
    "deletable": false,
    "editable": false,
    "nbgrader": {
     "cell_type": "markdown",
     "checksum": "022df9f24d851db2cc63c8c5231b6b80",
     "grade": false,
     "grade_id": "q5-question",
     "locked": true,
     "schema_version": 3,
     "solution": false
    }
   },
   "source": [
    "**Q5. (20 points)** At what time (in seconds) does the rocket impact the ground? What is the velocity of the rocket (in $\\frac{m}{s}$) at time of impact?\n",
    "\n",
    "The time and velocity of the impact should be linearly interpolated at altitude $h = 0$.\n",
    "\n",
    "_Instructions:_\n",
    "\n",
    "* Store the time of impact in the variable `t_impact`, check your answer with `mooc.check('hw1_answer7', t_impact)`.\n",
    "* Store the impact velocity in the variable `v_impact`, check your answer with `mooc.check('hw1_answer8', v_impact)`."
   ]
  },
  {
   "cell_type": "code",
   "execution_count": 72,
   "metadata": {
    "deletable": false,
    "nbgrader": {
     "cell_type": "code",
     "checksum": "564c9b327e828d50954081ab9c8a6b51",
     "grade": false,
     "grade_id": "q5-solution",
     "locked": false,
     "schema_version": 3,
     "solution": true
    }
   },
   "outputs": [
    {
     "name": "stdout",
     "output_type": "stream",
     "text": [
      "[hw1_answer7] Try again!\n"
     ]
    }
   ],
   "source": [
    "# YOUR CODE HERE\n",
    "for i in range(N-1):\n",
    "    if (h[i+1]==0):\n",
    "        t_impact=t[i+1]\n",
    "        break\n",
    "\n",
    "mooc.check('hw1_answer7',t_impact)"
   ]
  },
  {
   "cell_type": "code",
   "execution_count": null,
   "metadata": {
    "deletable": false,
    "editable": false,
    "nbgrader": {
     "cell_type": "code",
     "checksum": "0246945493a1bfc08583ed9f7d69999e",
     "grade": true,
     "grade_id": "q5-check",
     "locked": true,
     "points": 20,
     "schema_version": 3,
     "solution": false
    }
   },
   "outputs": [],
   "source": []
  },
  {
   "cell_type": "markdown",
   "metadata": {
    "deletable": false,
    "editable": false,
    "nbgrader": {
     "cell_type": "markdown",
     "checksum": "0a67937b8eb19f0e653536195b4517ca",
     "grade": false,
     "grade_id": "derivation",
     "locked": true,
     "schema_version": 3,
     "solution": false
    }
   },
   "source": [
    "---\n",
    "\n",
    "## Derivation of the rocket equations\n",
    "\n",
    "In case you are kind of confused about the rocket equations, here we show how to get to them. \n",
    "\n",
    "Newton's second law states that the acceleration of the vehicle times its mass is equal to all the forces acting on it. Therefore,\n",
    "\n",
    "\\begin{equation}\n",
    "(m_s + m_p)\\frac{d\\bf{v}}{dt}=\\sum {\\bf F}.\n",
    "\\end{equation}\n",
    "In the above formula we have assumed that the propellant inside the rocket and the rocket move at the same velocity (in other words, their relative velocity is negligible). \n",
    "\n",
    "Two of the external forces acting on the rocket are,\n",
    "\n",
    "\\begin{align}\n",
    "{\\bf F}_g&= (m_s+m_p)\\bf{g} \\quad (\\rm{Gravity}),\\\\\n",
    "{\\bf F}_d&= - \\frac{1}{2} \\rho_a \\mathbf{v} |\\mathbf{v}| A  C_D \\quad (\\rm{Drag}).\n",
    "\\end{align}\n",
    "\n",
    "We also need to consider the force resulting from the ejection of the propellant. During an interval $dt$, the engine of the rocket ejects downwards a mass of propellant given by $\\dot m_p dt$. Relative to the rocket, the speed of the ejected burning gas is assumed constant and equal to $v_e$ (the exhaust speed). The momentum variation induced on the exhaust gas by the engine during that interval is therefore, $d{\\bf p}_{gas} = \\dot m_p {\\bf v}_e dt$. Again using Newton's second law we conclude that the force applied by the rocket on the gas is,\n",
    "\n",
    "\\begin{align}\n",
    "{\\bf F}_{rocket\\rightarrow gas} = \\frac{d{\\bf p}_{gas}}{dt} = \\dot m_p {\\bf v}_e\n",
    "\\end{align}\n",
    "\n",
    "Using Newton's third law (|action| = |reaction|), the force exerted by the exhaust gas on the rocket is then,\n",
    "\n",
    "\\begin{align}\n",
    "{\\bf F}_{gas\\rightarrow rocket} = -{\\bf F}_{rocket\\rightarrow gas} = -\\dot m_p {\\bf v}_e\n",
    "\\end{align}\n",
    "\n",
    "If we collect all the forces acting on the rocket we finally have:\n",
    "\n",
    "\\begin{align}\n",
    "(m_s + m_p)\\frac{d\\bf{v}}{dt}=(m_s+m_p){\\bf g}- \\frac{1}{2} \\rho_a \\mathbf{v} |v| A  C_D -\\dot m_p {\\bf v}_e\n",
    "\\end{align}\n",
    "\n"
   ]
  }
 ],
 "metadata": {
  "kernelspec": {
   "display_name": "Python 3",
   "language": "python",
   "name": "python3"
  },
  "language_info": {
   "codemirror_mode": {
    "name": "ipython",
    "version": 3
   },
   "file_extension": ".py",
   "mimetype": "text/x-python",
   "name": "python",
   "nbconvert_exporter": "python",
   "pygments_lexer": "ipython3",
   "version": "3.8.5"
  }
 },
 "nbformat": 4,
 "nbformat_minor": 1
}
